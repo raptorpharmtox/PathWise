{
  "nbformat": 4,
  "nbformat_minor": 0,
  "metadata": {
    "colab": {
      "provenance": []
    },
    "kernelspec": {
      "name": "python3",
      "display_name": "Python 3"
    },
    "language_info": {
      "name": "python"
    },
    "widgets": {
      "application/vnd.jupyter.widget-state+json": {
        "57e7b80a31374d4cb15d843464f77cf7": {
          "model_module": "@jupyter-widgets/controls",
          "model_name": "DropdownModel",
          "model_module_version": "1.5.0",
          "state": {
            "_dom_classes": [],
            "_model_module": "@jupyter-widgets/controls",
            "_model_module_version": "1.5.0",
            "_model_name": "DropdownModel",
            "_options_labels": [
              "(skip)",
              "Oxidative stress (http://purl.bioontology.org/ontology/MEDDRA/10080562)",
              "Oxidative Stress (http://ncicb.nci.nih.gov/xml/owl/EVS/Thesaurus.owl#C17741)",
              "Oxidative Stress (http://purl.bioontology.org/ontology/MESH/D018384)",
              "oxidative stress (http://purl.bioontology.org/ontology/CSP/4001-0099)",
              "oxidative stress (http://sbmi.uth.tmc.edu/ontology/ochv#24884)"
            ],
            "_view_count": null,
            "_view_module": "@jupyter-widgets/controls",
            "_view_module_version": "1.5.0",
            "_view_name": "DropdownView",
            "description": "KE:1",
            "description_tooltip": null,
            "disabled": false,
            "index": 1,
            "layout": "IPY_MODEL_c6684efd78094901834ecd53ff997ecd",
            "style": "IPY_MODEL_31b4638898854896956ea9583a10d998"
          }
        },
        "c6684efd78094901834ecd53ff997ecd": {
          "model_module": "@jupyter-widgets/base",
          "model_name": "LayoutModel",
          "model_module_version": "1.2.0",
          "state": {
            "_model_module": "@jupyter-widgets/base",
            "_model_module_version": "1.2.0",
            "_model_name": "LayoutModel",
            "_view_count": null,
            "_view_module": "@jupyter-widgets/base",
            "_view_module_version": "1.2.0",
            "_view_name": "LayoutView",
            "align_content": null,
            "align_items": null,
            "align_self": null,
            "border": null,
            "bottom": null,
            "display": null,
            "flex": null,
            "flex_flow": null,
            "grid_area": null,
            "grid_auto_columns": null,
            "grid_auto_flow": null,
            "grid_auto_rows": null,
            "grid_column": null,
            "grid_gap": null,
            "grid_row": null,
            "grid_template_areas": null,
            "grid_template_columns": null,
            "grid_template_rows": null,
            "height": null,
            "justify_content": null,
            "justify_items": null,
            "left": null,
            "margin": null,
            "max_height": null,
            "max_width": null,
            "min_height": null,
            "min_width": null,
            "object_fit": null,
            "object_position": null,
            "order": null,
            "overflow": null,
            "overflow_x": null,
            "overflow_y": null,
            "padding": null,
            "right": null,
            "top": null,
            "visibility": null,
            "width": "100%"
          }
        },
        "31b4638898854896956ea9583a10d998": {
          "model_module": "@jupyter-widgets/controls",
          "model_name": "DescriptionStyleModel",
          "model_module_version": "1.5.0",
          "state": {
            "_model_module": "@jupyter-widgets/controls",
            "_model_module_version": "1.5.0",
            "_model_name": "DescriptionStyleModel",
            "_view_count": null,
            "_view_module": "@jupyter-widgets/base",
            "_view_module_version": "1.2.0",
            "_view_name": "StyleView",
            "description_width": ""
          }
        },
        "cf24c4afea2c401a8e7e1900dbb17b84": {
          "model_module": "@jupyter-widgets/controls",
          "model_name": "DropdownModel",
          "model_module_version": "1.5.0",
          "state": {
            "_dom_classes": [],
            "_model_module": "@jupyter-widgets/controls",
            "_model_module_version": "1.5.0",
            "_model_name": "DropdownModel",
            "_options_labels": [
              "(skip)",
              "Lung function decreased (http://purl.bioontology.org/ontology/MEDDRA/10025093)",
              "LUNG FUNCTION DECREASED (http://purl.bioontology.org/ontology/CST/LUNG%20FUNC%20DEC)",
              "decreased lung function (http://sbmi.uth.tmc.edu/ontology/ochv#C0231797)",
              "Lung function decreased (NOS) (http://purl.bioontology.org/ontology/MEDDRA/10025094)",
              "Lung function (http://purl.bioontology.org/ontology/MEDDRA/10025091)"
            ],
            "_view_count": null,
            "_view_module": "@jupyter-widgets/controls",
            "_view_module_version": "1.5.0",
            "_view_name": "DropdownView",
            "description": "KE:2",
            "description_tooltip": null,
            "disabled": false,
            "index": 4,
            "layout": "IPY_MODEL_2162578bb51b4d0f98d48c8c5ba81524",
            "style": "IPY_MODEL_ff5da82373a94f0eb1138ba3ef0a5320"
          }
        },
        "2162578bb51b4d0f98d48c8c5ba81524": {
          "model_module": "@jupyter-widgets/base",
          "model_name": "LayoutModel",
          "model_module_version": "1.2.0",
          "state": {
            "_model_module": "@jupyter-widgets/base",
            "_model_module_version": "1.2.0",
            "_model_name": "LayoutModel",
            "_view_count": null,
            "_view_module": "@jupyter-widgets/base",
            "_view_module_version": "1.2.0",
            "_view_name": "LayoutView",
            "align_content": null,
            "align_items": null,
            "align_self": null,
            "border": null,
            "bottom": null,
            "display": null,
            "flex": null,
            "flex_flow": null,
            "grid_area": null,
            "grid_auto_columns": null,
            "grid_auto_flow": null,
            "grid_auto_rows": null,
            "grid_column": null,
            "grid_gap": null,
            "grid_row": null,
            "grid_template_areas": null,
            "grid_template_columns": null,
            "grid_template_rows": null,
            "height": null,
            "justify_content": null,
            "justify_items": null,
            "left": null,
            "margin": null,
            "max_height": null,
            "max_width": null,
            "min_height": null,
            "min_width": null,
            "object_fit": null,
            "object_position": null,
            "order": null,
            "overflow": null,
            "overflow_x": null,
            "overflow_y": null,
            "padding": null,
            "right": null,
            "top": null,
            "visibility": null,
            "width": "100%"
          }
        },
        "ff5da82373a94f0eb1138ba3ef0a5320": {
          "model_module": "@jupyter-widgets/controls",
          "model_name": "DescriptionStyleModel",
          "model_module_version": "1.5.0",
          "state": {
            "_model_module": "@jupyter-widgets/controls",
            "_model_module_version": "1.5.0",
            "_model_name": "DescriptionStyleModel",
            "_view_count": null,
            "_view_module": "@jupyter-widgets/base",
            "_view_module_version": "1.2.0",
            "_view_name": "StyleView",
            "description_width": ""
          }
        }
      }
    }
  },
  "cells": [
    {
      "cell_type": "markdown",
      "metadata": {
        "id": "jRE5BneHWciS"
      },
      "source": [
        "# 🧬 AOP 411 Ontologizer Notebook with BioPortal Integration\n",
        "This notebook loads AOP 411, uses BioPortal to suggest ontology terms, and lets users export a structured JSON."
      ]
    },
    {
      "cell_type": "code",
      "metadata": {
        "id": "I9vN55kiWciV"
      },
      "execution_count": 15,
      "outputs": [],
      "source": [
        "# Step 1: Sample AOP 411 Data Initialization\n",
        "aop_data = {\n",
        "    \"aop_id\": \"AOP:411\",\n",
        "    \"title\": \"Oxidative stress leading to decreased lung function\",\n",
        "    \"key_events\": [\n",
        "        {\n",
        "            \"id\": \"KE:1\",\n",
        "            \"title\": \"Oxidative stress\",\n",
        "            \"description\": \"An imbalance between the production of reactive oxygen species and antioxidant defenses.\"\n",
        "        },\n",
        "        {\n",
        "            \"id\": \"KE:2\",\n",
        "            \"title\": \"Decreased lung function\",\n",
        "            \"description\": \"Impaired ability of lungs to perform normal respiratory functions.\"\n",
        "        }\n",
        "    ],\n",
        "    \"key_event_relationships\": [\n",
        "        {\n",
        "            \"id\": \"KER:1\",\n",
        "            \"source\": \"KE:1\",\n",
        "            \"target\": \"KE:2\",\n",
        "            \"relationship\": \"leads to\"\n",
        "        }\n",
        "    ]\n",
        "}"
      ]
    },
    {
      "cell_type": "code",
      "metadata": {
        "id": "wNQZkfFeWciW"
      },
      "execution_count": 16,
      "outputs": [],
      "source": [
        "# Step 2: BioPortal Ontology Suggestion Function\n",
        "import requests\n",
        "\n",
        "API_KEY = \"3c089dc7-5026-47cb-babe-41c608cfe111\"  # Replace with your actual BioPortal API Key\n",
        "BASE_URL = \"https://data.bioontology.org\"\n",
        "\n",
        "def suggest_ontology_terms(text, ontologies=\"GO,ChEBI\"):\n",
        "    # url = f\"{BASE_URL}/search?q={text}&ontologies={ontologies}&apikey={API_KEY}\"\n",
        "    url = f\"{BASE_URL}/search?q={text}&apikey={API_KEY}\"\n",
        "    response = requests.get(url)\n",
        "    if response.status_code == 200:\n",
        "        results = response.json().get('collection', [])\n",
        "        return [(r.get('prefLabel'), r.get('@id')) for r in results[:5] if r.get('prefLabel') and r.get('@id')]\n",
        "    else:\n",
        "        print(\"Error:\", response.status_code)\n",
        "        return []"
      ]
    },
    {
      "cell_type": "code",
      "metadata": {
        "colab": {
          "base_uri": "https://localhost:8080/"
        },
        "id": "2dzEppN3WciX",
        "outputId": "570c9707-fe0d-4690-c5d2-3f1af86a3289"
      },
      "execution_count": 17,
      "outputs": [
        {
          "output_type": "stream",
          "name": "stdout",
          "text": [
            "\n",
            "🔍 Suggestions for: Oxidative stress\n",
            " - Oxidative stress: http://purl.bioontology.org/ontology/MEDDRA/10080562\n",
            " - Oxidative Stress: http://ncicb.nci.nih.gov/xml/owl/EVS/Thesaurus.owl#C17741\n",
            " - Oxidative Stress: http://purl.bioontology.org/ontology/MESH/D018384\n",
            " - oxidative stress: http://purl.bioontology.org/ontology/CSP/4001-0099\n",
            " - oxidative stress: http://sbmi.uth.tmc.edu/ontology/ochv#24884\n",
            "\n",
            "🔍 Suggestions for: Decreased lung function\n",
            " - Lung function decreased: http://purl.bioontology.org/ontology/MEDDRA/10025093\n",
            " - LUNG FUNCTION DECREASED: http://purl.bioontology.org/ontology/CST/LUNG%20FUNC%20DEC\n",
            " - decreased lung function: http://sbmi.uth.tmc.edu/ontology/ochv#C0231797\n",
            " - Lung function decreased (NOS): http://purl.bioontology.org/ontology/MEDDRA/10025094\n",
            " - Lung function: http://purl.bioontology.org/ontology/MEDDRA/10025091\n"
          ]
        }
      ],
      "source": [
        "# Step 3: Display Suggestions for Each Key Event\n",
        "from IPython.display import display, Markdown\n",
        "\n",
        "ontology_map = []\n",
        "for ke in aop_data[\"key_events\"]:\n",
        "    print(f\"\\n🔍 Suggestions for: {ke['title']}\")\n",
        "    suggestions = suggest_ontology_terms(ke['title'])\n",
        "    for label, iri in suggestions:\n",
        "        print(f\" - {label}: {iri}\")\n",
        "    ontology_map.append((ke, suggestions))"
      ]
    },
    {
      "cell_type": "markdown",
      "metadata": {
        "id": "mxmL-jbmWciX"
      },
      "source": [
        "### ✏️ Running the code below will allow you to manually select one of the suggestions above for each KE and input them below."
      ]
    },
    {
      "cell_type": "code",
      "metadata": {
        "colab": {
          "base_uri": "https://localhost:8080/",
          "height": 99,
          "referenced_widgets": [
            "57e7b80a31374d4cb15d843464f77cf7",
            "c6684efd78094901834ecd53ff997ecd",
            "31b4638898854896956ea9583a10d998",
            "cf24c4afea2c401a8e7e1900dbb17b84",
            "2162578bb51b4d0f98d48c8c5ba81524",
            "ff5da82373a94f0eb1138ba3ef0a5320"
          ]
        },
        "id": "zp1nqJH7WciX",
        "outputId": "88a67162-1c5b-453e-b3ea-81cb579b529b"
      },
      "execution_count": 18,
      "outputs": [
        {
          "output_type": "display_data",
          "data": {
            "text/plain": [
              "Dropdown(description='KE:1', layout=Layout(width='100%'), options=(('(skip)', ''), ('Oxidative stress (http://…"
            ],
            "application/vnd.jupyter.widget-view+json": {
              "version_major": 2,
              "version_minor": 0,
              "model_id": "57e7b80a31374d4cb15d843464f77cf7"
            }
          },
          "metadata": {}
        },
        {
          "output_type": "display_data",
          "data": {
            "text/plain": [
              "Dropdown(description='KE:2', layout=Layout(width='100%'), options=(('(skip)', ''), ('Lung function decreased (…"
            ],
            "application/vnd.jupyter.widget-view+json": {
              "version_major": 2,
              "version_minor": 0,
              "model_id": "cf24c4afea2c401a8e7e1900dbb17b84"
            }
          },
          "metadata": {}
        }
      ],
      "source": [
        "# Step 4: Input Final Ontology Mappings\n",
        "from IPython.display import display\n",
        "import ipywidgets as widgets\n",
        "\n",
        "ontology_inputs = []\n",
        "for ke, suggestions in ontology_map:\n",
        "    dropdown = widgets.Dropdown(\n",
        "        options=[(\"(skip)\", \"\")] + [(f\"{label} ({iri})\", iri) for label, iri in suggestions],\n",
        "        description=ke['id'],\n",
        "        layout=widgets.Layout(width='100%')\n",
        "    )\n",
        "    display(dropdown)\n",
        "    ontology_inputs.append((ke, dropdown))"
      ]
    },
    {
      "cell_type": "code",
      "metadata": {
        "colab": {
          "base_uri": "https://localhost:8080/"
        },
        "id": "eCIqnpB4WciY",
        "outputId": "3d9465b1-32ad-49be-fbbd-42708d570a06"
      },
      "execution_count": 19,
      "outputs": [
        {
          "output_type": "stream",
          "name": "stdout",
          "text": [
            "✅ Ontologized AOP exported to aop_411_ontologized_bioportal.json\n"
          ]
        }
      ],
      "source": [
        "# Step 5: Export Final Ontologized JSON\n",
        "import json\n",
        "\n",
        "structured_aop = {\n",
        "    \"aop_id\": aop_data[\"aop_id\"],\n",
        "    \"title\": aop_data[\"title\"],\n",
        "    \"key_events\": [],\n",
        "    \"key_event_relationships\": aop_data[\"key_event_relationships\"]\n",
        "}\n",
        "\n",
        "for ke, dropdown in ontology_inputs:\n",
        "    selected_iri = dropdown.value\n",
        "    selected_label = dropdown.label if hasattr(dropdown, 'label') else dropdown.description\n",
        "    structured_aop[\"key_events\"].append({\n",
        "        \"id\": ke[\"id\"],\n",
        "        \"title\": ke[\"title\"],\n",
        "        \"description\": ke[\"description\"],\n",
        "        \"ontology_id\": selected_iri,\n",
        "        \"ontology_label\": selected_label\n",
        "    })\n",
        "\n",
        "filename = \"aop_411_ontologized_bioportal.json\"\n",
        "with open(filename, \"w\") as f:\n",
        "    json.dump(structured_aop, f, indent=2)\n",
        "\n",
        "print(f\"✅ Ontologized AOP exported to {filename}\")"
      ]
    },
    {
      "cell_type": "code",
      "metadata": {
        "colab": {
          "base_uri": "https://localhost:8080/",
          "height": 17
        },
        "id": "jIXqa-JQWciY",
        "outputId": "98669651-f2d9-40ba-ab2d-b05dffd1e87e"
      },
      "execution_count": 20,
      "outputs": [
        {
          "output_type": "display_data",
          "data": {
            "text/plain": [
              "<IPython.core.display.Javascript object>"
            ],
            "application/javascript": [
              "\n",
              "    async function download(id, filename, size) {\n",
              "      if (!google.colab.kernel.accessAllowed) {\n",
              "        return;\n",
              "      }\n",
              "      const div = document.createElement('div');\n",
              "      const label = document.createElement('label');\n",
              "      label.textContent = `Downloading \"${filename}\": `;\n",
              "      div.appendChild(label);\n",
              "      const progress = document.createElement('progress');\n",
              "      progress.max = size;\n",
              "      div.appendChild(progress);\n",
              "      document.body.appendChild(div);\n",
              "\n",
              "      const buffers = [];\n",
              "      let downloaded = 0;\n",
              "\n",
              "      const channel = await google.colab.kernel.comms.open(id);\n",
              "      // Send a message to notify the kernel that we're ready.\n",
              "      channel.send({})\n",
              "\n",
              "      for await (const message of channel.messages) {\n",
              "        // Send a message to notify the kernel that we're ready.\n",
              "        channel.send({})\n",
              "        if (message.buffers) {\n",
              "          for (const buffer of message.buffers) {\n",
              "            buffers.push(buffer);\n",
              "            downloaded += buffer.byteLength;\n",
              "            progress.value = downloaded;\n",
              "          }\n",
              "        }\n",
              "      }\n",
              "      const blob = new Blob(buffers, {type: 'application/binary'});\n",
              "      const a = document.createElement('a');\n",
              "      a.href = window.URL.createObjectURL(blob);\n",
              "      a.download = filename;\n",
              "      div.appendChild(a);\n",
              "      a.click();\n",
              "      div.remove();\n",
              "    }\n",
              "  "
            ]
          },
          "metadata": {}
        },
        {
          "output_type": "display_data",
          "data": {
            "text/plain": [
              "<IPython.core.display.Javascript object>"
            ],
            "application/javascript": [
              "download(\"download_216a8580-d86a-43f4-8159-0ccab46d76d8\", \"aop_411_ontologized_bioportal.json\", 973)"
            ]
          },
          "metadata": {}
        }
      ],
      "source": [
        "# Step 6: Download the File\n",
        "from google.colab import files\n",
        "files.download(\"aop_411_ontologized_bioportal.json\")"
      ]
    }
  ]
}